{
  "nbformat": 4,
  "nbformat_minor": 0,
  "metadata": {
    "colab": {
      "provenance": [],
      "collapsed_sections": []
    },
    "kernelspec": {
      "name": "python3",
      "display_name": "Python 3"
    },
    "language_info": {
      "name": "python"
    }
  },
  "cells": [
    {
      "cell_type": "code",
      "execution_count": 11,
      "metadata": {
        "colab": {
          "base_uri": "https://localhost:8080/",
          "height": 73
        },
        "id": "mQA9rl1jtVsn",
        "outputId": "edafb499-843e-4948-f263-4f8fffd9dae5"
      },
      "outputs": [
        {
          "output_type": "display_data",
          "data": {
            "text/plain": [
              "<IPython.core.display.HTML object>"
            ],
            "text/html": [
              "\n",
              "     <input type=\"file\" id=\"files-cdfd6c94-b846-4fe0-8aac-f45c0e839dc6\" name=\"files[]\" multiple disabled\n",
              "        style=\"border:none\" />\n",
              "     <output id=\"result-cdfd6c94-b846-4fe0-8aac-f45c0e839dc6\">\n",
              "      Upload widget is only available when the cell has been executed in the\n",
              "      current browser session. Please rerun this cell to enable.\n",
              "      </output>\n",
              "      <script>// Copyright 2017 Google LLC\n",
              "//\n",
              "// Licensed under the Apache License, Version 2.0 (the \"License\");\n",
              "// you may not use this file except in compliance with the License.\n",
              "// You may obtain a copy of the License at\n",
              "//\n",
              "//      http://www.apache.org/licenses/LICENSE-2.0\n",
              "//\n",
              "// Unless required by applicable law or agreed to in writing, software\n",
              "// distributed under the License is distributed on an \"AS IS\" BASIS,\n",
              "// WITHOUT WARRANTIES OR CONDITIONS OF ANY KIND, either express or implied.\n",
              "// See the License for the specific language governing permissions and\n",
              "// limitations under the License.\n",
              "\n",
              "/**\n",
              " * @fileoverview Helpers for google.colab Python module.\n",
              " */\n",
              "(function(scope) {\n",
              "function span(text, styleAttributes = {}) {\n",
              "  const element = document.createElement('span');\n",
              "  element.textContent = text;\n",
              "  for (const key of Object.keys(styleAttributes)) {\n",
              "    element.style[key] = styleAttributes[key];\n",
              "  }\n",
              "  return element;\n",
              "}\n",
              "\n",
              "// Max number of bytes which will be uploaded at a time.\n",
              "const MAX_PAYLOAD_SIZE = 100 * 1024;\n",
              "\n",
              "function _uploadFiles(inputId, outputId) {\n",
              "  const steps = uploadFilesStep(inputId, outputId);\n",
              "  const outputElement = document.getElementById(outputId);\n",
              "  // Cache steps on the outputElement to make it available for the next call\n",
              "  // to uploadFilesContinue from Python.\n",
              "  outputElement.steps = steps;\n",
              "\n",
              "  return _uploadFilesContinue(outputId);\n",
              "}\n",
              "\n",
              "// This is roughly an async generator (not supported in the browser yet),\n",
              "// where there are multiple asynchronous steps and the Python side is going\n",
              "// to poll for completion of each step.\n",
              "// This uses a Promise to block the python side on completion of each step,\n",
              "// then passes the result of the previous step as the input to the next step.\n",
              "function _uploadFilesContinue(outputId) {\n",
              "  const outputElement = document.getElementById(outputId);\n",
              "  const steps = outputElement.steps;\n",
              "\n",
              "  const next = steps.next(outputElement.lastPromiseValue);\n",
              "  return Promise.resolve(next.value.promise).then((value) => {\n",
              "    // Cache the last promise value to make it available to the next\n",
              "    // step of the generator.\n",
              "    outputElement.lastPromiseValue = value;\n",
              "    return next.value.response;\n",
              "  });\n",
              "}\n",
              "\n",
              "/**\n",
              " * Generator function which is called between each async step of the upload\n",
              " * process.\n",
              " * @param {string} inputId Element ID of the input file picker element.\n",
              " * @param {string} outputId Element ID of the output display.\n",
              " * @return {!Iterable<!Object>} Iterable of next steps.\n",
              " */\n",
              "function* uploadFilesStep(inputId, outputId) {\n",
              "  const inputElement = document.getElementById(inputId);\n",
              "  inputElement.disabled = false;\n",
              "\n",
              "  const outputElement = document.getElementById(outputId);\n",
              "  outputElement.innerHTML = '';\n",
              "\n",
              "  const pickedPromise = new Promise((resolve) => {\n",
              "    inputElement.addEventListener('change', (e) => {\n",
              "      resolve(e.target.files);\n",
              "    });\n",
              "  });\n",
              "\n",
              "  const cancel = document.createElement('button');\n",
              "  inputElement.parentElement.appendChild(cancel);\n",
              "  cancel.textContent = 'Cancel upload';\n",
              "  const cancelPromise = new Promise((resolve) => {\n",
              "    cancel.onclick = () => {\n",
              "      resolve(null);\n",
              "    };\n",
              "  });\n",
              "\n",
              "  // Wait for the user to pick the files.\n",
              "  const files = yield {\n",
              "    promise: Promise.race([pickedPromise, cancelPromise]),\n",
              "    response: {\n",
              "      action: 'starting',\n",
              "    }\n",
              "  };\n",
              "\n",
              "  cancel.remove();\n",
              "\n",
              "  // Disable the input element since further picks are not allowed.\n",
              "  inputElement.disabled = true;\n",
              "\n",
              "  if (!files) {\n",
              "    return {\n",
              "      response: {\n",
              "        action: 'complete',\n",
              "      }\n",
              "    };\n",
              "  }\n",
              "\n",
              "  for (const file of files) {\n",
              "    const li = document.createElement('li');\n",
              "    li.append(span(file.name, {fontWeight: 'bold'}));\n",
              "    li.append(span(\n",
              "        `(${file.type || 'n/a'}) - ${file.size} bytes, ` +\n",
              "        `last modified: ${\n",
              "            file.lastModifiedDate ? file.lastModifiedDate.toLocaleDateString() :\n",
              "                                    'n/a'} - `));\n",
              "    const percent = span('0% done');\n",
              "    li.appendChild(percent);\n",
              "\n",
              "    outputElement.appendChild(li);\n",
              "\n",
              "    const fileDataPromise = new Promise((resolve) => {\n",
              "      const reader = new FileReader();\n",
              "      reader.onload = (e) => {\n",
              "        resolve(e.target.result);\n",
              "      };\n",
              "      reader.readAsArrayBuffer(file);\n",
              "    });\n",
              "    // Wait for the data to be ready.\n",
              "    let fileData = yield {\n",
              "      promise: fileDataPromise,\n",
              "      response: {\n",
              "        action: 'continue',\n",
              "      }\n",
              "    };\n",
              "\n",
              "    // Use a chunked sending to avoid message size limits. See b/62115660.\n",
              "    let position = 0;\n",
              "    do {\n",
              "      const length = Math.min(fileData.byteLength - position, MAX_PAYLOAD_SIZE);\n",
              "      const chunk = new Uint8Array(fileData, position, length);\n",
              "      position += length;\n",
              "\n",
              "      const base64 = btoa(String.fromCharCode.apply(null, chunk));\n",
              "      yield {\n",
              "        response: {\n",
              "          action: 'append',\n",
              "          file: file.name,\n",
              "          data: base64,\n",
              "        },\n",
              "      };\n",
              "\n",
              "      let percentDone = fileData.byteLength === 0 ?\n",
              "          100 :\n",
              "          Math.round((position / fileData.byteLength) * 100);\n",
              "      percent.textContent = `${percentDone}% done`;\n",
              "\n",
              "    } while (position < fileData.byteLength);\n",
              "  }\n",
              "\n",
              "  // All done.\n",
              "  yield {\n",
              "    response: {\n",
              "      action: 'complete',\n",
              "    }\n",
              "  };\n",
              "}\n",
              "\n",
              "scope.google = scope.google || {};\n",
              "scope.google.colab = scope.google.colab || {};\n",
              "scope.google.colab._files = {\n",
              "  _uploadFiles,\n",
              "  _uploadFilesContinue,\n",
              "};\n",
              "})(self);\n",
              "</script> "
            ]
          },
          "metadata": {}
        },
        {
          "output_type": "stream",
          "name": "stdout",
          "text": [
            "Saving netflix_titles.csv to netflix_titles (1).csv\n"
          ]
        }
      ],
      "source": [
        "import numpy as np\n",
        "import pandas as pd\n",
        "import io\n",
        "\n",
        "from google.colab import files\n",
        "uploaded = files.upload()"
      ]
    },
    {
      "cell_type": "code",
      "source": [
        "data = pd.read_csv(io.BytesIO(uploaded['netflix_titles.csv']))\n",
        "print(data)"
      ],
      "metadata": {
        "colab": {
          "base_uri": "https://localhost:8080/"
        },
        "id": "-hxEbPN0vw55",
        "outputId": "eafe8ab0-983e-4408-fb6a-e39476487874"
      },
      "execution_count": 19,
      "outputs": [
        {
          "output_type": "stream",
          "name": "stdout",
          "text": [
            "     show_id     type                  title         director  \\\n",
            "0         s1    Movie   Dick Johnson Is Dead  Kirsten Johnson   \n",
            "1         s2  TV Show          Blood & Water              NaN   \n",
            "2         s3  TV Show              Ganglands  Julien Leclercq   \n",
            "3         s4  TV Show  Jailbirds New Orleans              NaN   \n",
            "4         s5  TV Show           Kota Factory              NaN   \n",
            "...      ...      ...                    ...              ...   \n",
            "8802   s8803    Movie                 Zodiac    David Fincher   \n",
            "8803   s8804  TV Show            Zombie Dumb              NaN   \n",
            "8804   s8805    Movie             Zombieland  Ruben Fleischer   \n",
            "8805   s8806    Movie                   Zoom     Peter Hewitt   \n",
            "8806   s8807    Movie                 Zubaan      Mozez Singh   \n",
            "\n",
            "                                                   cast        country  \\\n",
            "0                                                   NaN  United States   \n",
            "1     Ama Qamata, Khosi Ngema, Gail Mabalane, Thaban...   South Africa   \n",
            "2     Sami Bouajila, Tracy Gotoas, Samuel Jouy, Nabi...            NaN   \n",
            "3                                                   NaN            NaN   \n",
            "4     Mayur More, Jitendra Kumar, Ranjan Raj, Alam K...          India   \n",
            "...                                                 ...            ...   \n",
            "8802  Mark Ruffalo, Jake Gyllenhaal, Robert Downey J...  United States   \n",
            "8803                                                NaN            NaN   \n",
            "8804  Jesse Eisenberg, Woody Harrelson, Emma Stone, ...  United States   \n",
            "8805  Tim Allen, Courteney Cox, Chevy Chase, Kate Ma...  United States   \n",
            "8806  Vicky Kaushal, Sarah-Jane Dias, Raaghav Chanan...          India   \n",
            "\n",
            "              date_added  release_year rating   duration  \\\n",
            "0     September 25, 2021          2020  PG-13     90 min   \n",
            "1     September 24, 2021          2021  TV-MA  2 Seasons   \n",
            "2     September 24, 2021          2021  TV-MA   1 Season   \n",
            "3     September 24, 2021          2021  TV-MA   1 Season   \n",
            "4     September 24, 2021          2021  TV-MA  2 Seasons   \n",
            "...                  ...           ...    ...        ...   \n",
            "8802   November 20, 2019          2007      R    158 min   \n",
            "8803        July 1, 2019          2018  TV-Y7  2 Seasons   \n",
            "8804    November 1, 2019          2009      R     88 min   \n",
            "8805    January 11, 2020          2006     PG     88 min   \n",
            "8806       March 2, 2019          2015  TV-14    111 min   \n",
            "\n",
            "                                              listed_in  \\\n",
            "0                                         Documentaries   \n",
            "1       International TV Shows, TV Dramas, TV Mysteries   \n",
            "2     Crime TV Shows, International TV Shows, TV Act...   \n",
            "3                                Docuseries, Reality TV   \n",
            "4     International TV Shows, Romantic TV Shows, TV ...   \n",
            "...                                                 ...   \n",
            "8802                     Cult Movies, Dramas, Thrillers   \n",
            "8803             Kids' TV, Korean TV Shows, TV Comedies   \n",
            "8804                            Comedies, Horror Movies   \n",
            "8805                 Children & Family Movies, Comedies   \n",
            "8806     Dramas, International Movies, Music & Musicals   \n",
            "\n",
            "                                            description  \n",
            "0     As her father nears the end of his life, filmm...  \n",
            "1     After crossing paths at a party, a Cape Town t...  \n",
            "2     To protect his family from a powerful drug lor...  \n",
            "3     Feuds, flirtations and toilet talk go down amo...  \n",
            "4     In a city of coaching centers known to train I...  \n",
            "...                                                 ...  \n",
            "8802  A political cartoonist, a crime reporter and a...  \n",
            "8803  While living alone in a spooky town, a young g...  \n",
            "8804  Looking to survive in a world taken over by zo...  \n",
            "8805  Dragged from civilian life, a former superhero...  \n",
            "8806  A scrappy but poor boy worms his way into a ty...  \n",
            "\n",
            "[8807 rows x 12 columns]\n"
          ]
        }
      ]
    },
    {
      "cell_type": "code",
      "source": [
        "needed_data = data[['type', 'title', 'country', 'release_year', 'rating', 'duration', 'listed_in', 'description']]\n",
        "print(needed_data)"
      ],
      "metadata": {
        "colab": {
          "base_uri": "https://localhost:8080/"
        },
        "id": "yZxS0z1xyaT8",
        "outputId": "cea62c5c-ef95-4615-b6e7-1dc0eda5d65a"
      },
      "execution_count": 20,
      "outputs": [
        {
          "output_type": "stream",
          "name": "stdout",
          "text": [
            "         type                  title        country  release_year rating  \\\n",
            "0       Movie   Dick Johnson Is Dead  United States          2020  PG-13   \n",
            "1     TV Show          Blood & Water   South Africa          2021  TV-MA   \n",
            "2     TV Show              Ganglands            NaN          2021  TV-MA   \n",
            "3     TV Show  Jailbirds New Orleans            NaN          2021  TV-MA   \n",
            "4     TV Show           Kota Factory          India          2021  TV-MA   \n",
            "...       ...                    ...            ...           ...    ...   \n",
            "8802    Movie                 Zodiac  United States          2007      R   \n",
            "8803  TV Show            Zombie Dumb            NaN          2018  TV-Y7   \n",
            "8804    Movie             Zombieland  United States          2009      R   \n",
            "8805    Movie                   Zoom  United States          2006     PG   \n",
            "8806    Movie                 Zubaan          India          2015  TV-14   \n",
            "\n",
            "       duration                                          listed_in  \\\n",
            "0        90 min                                      Documentaries   \n",
            "1     2 Seasons    International TV Shows, TV Dramas, TV Mysteries   \n",
            "2      1 Season  Crime TV Shows, International TV Shows, TV Act...   \n",
            "3      1 Season                             Docuseries, Reality TV   \n",
            "4     2 Seasons  International TV Shows, Romantic TV Shows, TV ...   \n",
            "...         ...                                                ...   \n",
            "8802    158 min                     Cult Movies, Dramas, Thrillers   \n",
            "8803  2 Seasons             Kids' TV, Korean TV Shows, TV Comedies   \n",
            "8804     88 min                            Comedies, Horror Movies   \n",
            "8805     88 min                 Children & Family Movies, Comedies   \n",
            "8806    111 min     Dramas, International Movies, Music & Musicals   \n",
            "\n",
            "                                            description  \n",
            "0     As her father nears the end of his life, filmm...  \n",
            "1     After crossing paths at a party, a Cape Town t...  \n",
            "2     To protect his family from a powerful drug lor...  \n",
            "3     Feuds, flirtations and toilet talk go down amo...  \n",
            "4     In a city of coaching centers known to train I...  \n",
            "...                                                 ...  \n",
            "8802  A political cartoonist, a crime reporter and a...  \n",
            "8803  While living alone in a spooky town, a young g...  \n",
            "8804  Looking to survive in a world taken over by zo...  \n",
            "8805  Dragged from civilian life, a former superhero...  \n",
            "8806  A scrappy but poor boy worms his way into a ty...  \n",
            "\n",
            "[8807 rows x 8 columns]\n"
          ]
        }
      ]
    },
    {
      "cell_type": "code",
      "source": [
        "print(needed_data.isnull().sum())"
      ],
      "metadata": {
        "colab": {
          "base_uri": "https://localhost:8080/"
        },
        "id": "54EXY93MzWTK",
        "outputId": "9d8bdcd8-9117-4880-9969-fab900bfb537"
      },
      "execution_count": 21,
      "outputs": [
        {
          "output_type": "stream",
          "name": "stdout",
          "text": [
            "type              0\n",
            "title             0\n",
            "country         831\n",
            "release_year      0\n",
            "rating            4\n",
            "duration          3\n",
            "listed_in         0\n",
            "description       0\n",
            "dtype: int64\n"
          ]
        }
      ]
    },
    {
      "cell_type": "code",
      "source": [
        "needed_data = needed_data.dropna(axis = 0, how = 'any')\n",
        "print(needed_data.isnull().sum())"
      ],
      "metadata": {
        "colab": {
          "base_uri": "https://localhost:8080/"
        },
        "id": "YJdU-y1Fzv2D",
        "outputId": "a97bd94b-c2c7-42a4-8480-b6b9e4d79903"
      },
      "execution_count": 22,
      "outputs": [
        {
          "output_type": "stream",
          "name": "stdout",
          "text": [
            "type            0\n",
            "title           0\n",
            "country         0\n",
            "release_year    0\n",
            "rating          0\n",
            "duration        0\n",
            "listed_in       0\n",
            "description     0\n",
            "dtype: int64\n"
          ]
        }
      ]
    },
    {
      "cell_type": "code",
      "source": [
        "needed_data.to_csv('cleanNetflix_titles.csv')"
      ],
      "metadata": {
        "id": "8BrhKAG51GV_"
      },
      "execution_count": 23,
      "outputs": []
    },
    {
      "cell_type": "code",
      "source": [
        "preproc_data = pd.read_csv('cleanNetflix_titles.csv')\n",
        "print(preproc_data.isnull().sum())"
      ],
      "metadata": {
        "colab": {
          "base_uri": "https://localhost:8080/"
        },
        "id": "cnOOmekT1aGi",
        "outputId": "b4e515d4-036c-4625-da33-454e71a1b5ed"
      },
      "execution_count": 30,
      "outputs": [
        {
          "output_type": "stream",
          "name": "stdout",
          "text": [
            "Unnamed: 0      0\n",
            "type            0\n",
            "title           0\n",
            "country         0\n",
            "release_year    0\n",
            "rating          0\n",
            "duration        0\n",
            "listed_in       0\n",
            "description     0\n",
            "dtype: int64\n"
          ]
        }
      ]
    },
    {
      "cell_type": "code",
      "source": [
        "print(preproc_data)"
      ],
      "metadata": {
        "colab": {
          "base_uri": "https://localhost:8080/"
        },
        "id": "gxCV-JSC2_lf",
        "outputId": "bd09e1e9-3c21-424f-9513-a17c6296ef58"
      },
      "execution_count": 29,
      "outputs": [
        {
          "output_type": "stream",
          "name": "stdout",
          "text": [
            "      Unnamed: 0     type                          title  \\\n",
            "0              0    Movie           Dick Johnson Is Dead   \n",
            "1              1  TV Show                  Blood & Water   \n",
            "2              4  TV Show                   Kota Factory   \n",
            "3              7    Movie                        Sankofa   \n",
            "4              8  TV Show  The Great British Baking Show   \n",
            "...          ...      ...                            ...   \n",
            "7965        8801    Movie                        Zinzana   \n",
            "7966        8802    Movie                         Zodiac   \n",
            "7967        8804    Movie                     Zombieland   \n",
            "7968        8805    Movie                           Zoom   \n",
            "7969        8806    Movie                         Zubaan   \n",
            "\n",
            "                                                country  release_year rating  \\\n",
            "0                                         United States          2020  PG-13   \n",
            "1                                          South Africa          2021  TV-MA   \n",
            "2                                                 India          2021  TV-MA   \n",
            "3     United States, Ghana, Burkina Faso, United Kin...          1993  TV-MA   \n",
            "4                                        United Kingdom          2021  TV-14   \n",
            "...                                                 ...           ...    ...   \n",
            "7965                       United Arab Emirates, Jordan          2015  TV-MA   \n",
            "7966                                      United States          2007      R   \n",
            "7967                                      United States          2009      R   \n",
            "7968                                      United States          2006     PG   \n",
            "7969                                              India          2015  TV-14   \n",
            "\n",
            "       duration                                          listed_in  \\\n",
            "0        90 min                                      Documentaries   \n",
            "1     2 Seasons    International TV Shows, TV Dramas, TV Mysteries   \n",
            "2     2 Seasons  International TV Shows, Romantic TV Shows, TV ...   \n",
            "3       125 min   Dramas, Independent Movies, International Movies   \n",
            "4     9 Seasons                       British TV Shows, Reality TV   \n",
            "...         ...                                                ...   \n",
            "7965     96 min            Dramas, International Movies, Thrillers   \n",
            "7966    158 min                     Cult Movies, Dramas, Thrillers   \n",
            "7967     88 min                            Comedies, Horror Movies   \n",
            "7968     88 min                 Children & Family Movies, Comedies   \n",
            "7969    111 min     Dramas, International Movies, Music & Musicals   \n",
            "\n",
            "                                            description  \n",
            "0     As her father nears the end of his life, filmm...  \n",
            "1     After crossing paths at a party, a Cape Town t...  \n",
            "2     In a city of coaching centers known to train I...  \n",
            "3     On a photo shoot in Ghana, an American model s...  \n",
            "4     A talented batch of amateur bakers face off in...  \n",
            "...                                                 ...  \n",
            "7965  Recovering alcoholic Talal wakes up inside a s...  \n",
            "7966  A political cartoonist, a crime reporter and a...  \n",
            "7967  Looking to survive in a world taken over by zo...  \n",
            "7968  Dragged from civilian life, a former superhero...  \n",
            "7969  A scrappy but poor boy worms his way into a ty...  \n",
            "\n",
            "[7970 rows x 9 columns]\n"
          ]
        }
      ]
    },
    {
      "cell_type": "code",
      "source": [
        "movies = preproc_data[preproc_data['type'] == 'Movie']\n",
        "print(movies)"
      ],
      "metadata": {
        "colab": {
          "base_uri": "https://localhost:8080/"
        },
        "id": "Xn0tV102yAqh",
        "outputId": "da8d6df1-22e3-4333-ef31-5e8aefea4e9f"
      },
      "execution_count": 26,
      "outputs": [
        {
          "output_type": "stream",
          "name": "stdout",
          "text": [
            "      Unnamed: 0   type                 title  \\\n",
            "0              0  Movie  Dick Johnson Is Dead   \n",
            "3              7  Movie               Sankofa   \n",
            "5              9  Movie          The Starling   \n",
            "6             12  Movie          Je Suis Karl   \n",
            "10            24  Movie                 Jeans   \n",
            "...          ...    ...                   ...   \n",
            "7965        8801  Movie               Zinzana   \n",
            "7966        8802  Movie                Zodiac   \n",
            "7967        8804  Movie            Zombieland   \n",
            "7968        8805  Movie                  Zoom   \n",
            "7969        8806  Movie                Zubaan   \n",
            "\n",
            "                                                country  release_year rating  \\\n",
            "0                                         United States          2020  PG-13   \n",
            "3     United States, Ghana, Burkina Faso, United Kin...          1993  TV-MA   \n",
            "5                                         United States          2021  PG-13   \n",
            "6                               Germany, Czech Republic          2021  TV-MA   \n",
            "10                                                India          1998  TV-14   \n",
            "...                                                 ...           ...    ...   \n",
            "7965                       United Arab Emirates, Jordan          2015  TV-MA   \n",
            "7966                                      United States          2007      R   \n",
            "7967                                      United States          2009      R   \n",
            "7968                                      United States          2006     PG   \n",
            "7969                                              India          2015  TV-14   \n",
            "\n",
            "     duration                                         listed_in  \\\n",
            "0      90 min                                     Documentaries   \n",
            "3     125 min  Dramas, Independent Movies, International Movies   \n",
            "5     104 min                                  Comedies, Dramas   \n",
            "6     127 min                      Dramas, International Movies   \n",
            "10    166 min   Comedies, International Movies, Romantic Movies   \n",
            "...       ...                                               ...   \n",
            "7965   96 min           Dramas, International Movies, Thrillers   \n",
            "7966  158 min                    Cult Movies, Dramas, Thrillers   \n",
            "7967   88 min                           Comedies, Horror Movies   \n",
            "7968   88 min                Children & Family Movies, Comedies   \n",
            "7969  111 min    Dramas, International Movies, Music & Musicals   \n",
            "\n",
            "                                            description  \n",
            "0     As her father nears the end of his life, filmm...  \n",
            "3     On a photo shoot in Ghana, an American model s...  \n",
            "5     A woman adjusting to life after a loss contend...  \n",
            "6     After most of her family is murdered in a terr...  \n",
            "10    When the father of the man she loves insists t...  \n",
            "...                                                 ...  \n",
            "7965  Recovering alcoholic Talal wakes up inside a s...  \n",
            "7966  A political cartoonist, a crime reporter and a...  \n",
            "7967  Looking to survive in a world taken over by zo...  \n",
            "7968  Dragged from civilian life, a former superhero...  \n",
            "7969  A scrappy but poor boy worms his way into a ty...  \n",
            "\n",
            "[5687 rows x 9 columns]\n"
          ]
        }
      ]
    },
    {
      "cell_type": "code",
      "source": [
        "tv_shoes = preproc_data[preproc_data['type'] == 'TV Show']\n",
        "print(tv_shoes)"
      ],
      "metadata": {
        "colab": {
          "base_uri": "https://localhost:8080/"
        },
        "id": "qK6Z8MT9yfIg",
        "outputId": "b2d2b24e-a0e3-4d14-c90b-8583f1ef41ec"
      },
      "execution_count": 27,
      "outputs": [
        {
          "output_type": "stream",
          "name": "stdout",
          "text": [
            "      Unnamed: 0     type                          title  \\\n",
            "1              1  TV Show                  Blood & Water   \n",
            "2              4  TV Show                   Kota Factory   \n",
            "4              8  TV Show  The Great British Baking Show   \n",
            "7             15  TV Show              Dear White People   \n",
            "8             17  TV Show                Falsa identidad   \n",
            "...          ...      ...                            ...   \n",
            "7946        8780  TV Show                   Yo-Kai Watch   \n",
            "7959        8795  TV Show                Yu-Gi-Oh! Arc-V   \n",
            "7960        8796  TV Show                     Yunus Emre   \n",
            "7961        8797  TV Show                      Zak Storm   \n",
            "7964        8800  TV Show             Zindagi Gulzar Hai   \n",
            "\n",
            "                                            country  release_year rating  \\\n",
            "1                                      South Africa          2021  TV-MA   \n",
            "2                                             India          2021  TV-MA   \n",
            "4                                    United Kingdom          2021  TV-14   \n",
            "7                                     United States          2021  TV-MA   \n",
            "8                                            Mexico          2020  TV-MA   \n",
            "...                                             ...           ...    ...   \n",
            "7946                                  United States          2015  TV-Y7   \n",
            "7959                                  Japan, Canada          2015  TV-Y7   \n",
            "7960                                         Turkey          2016  TV-PG   \n",
            "7961  United States, France, South Korea, Indonesia          2016  TV-Y7   \n",
            "7964                                       Pakistan          2012  TV-PG   \n",
            "\n",
            "       duration                                          listed_in  \\\n",
            "1     2 Seasons    International TV Shows, TV Dramas, TV Mysteries   \n",
            "2     2 Seasons  International TV Shows, Romantic TV Shows, TV ...   \n",
            "4     9 Seasons                       British TV Shows, Reality TV   \n",
            "7     4 Seasons                             TV Comedies, TV Dramas   \n",
            "8     2 Seasons  Crime TV Shows, Spanish-Language TV Shows, TV ...   \n",
            "...         ...                                                ...   \n",
            "7946   1 Season                             Anime Series, Kids' TV   \n",
            "7959  2 Seasons                             Anime Series, Kids' TV   \n",
            "7960  2 Seasons                  International TV Shows, TV Dramas   \n",
            "7961  3 Seasons                                           Kids' TV   \n",
            "7964   1 Season  International TV Shows, Romantic TV Shows, TV ...   \n",
            "\n",
            "                                            description  \n",
            "1     After crossing paths at a party, a Cape Town t...  \n",
            "2     In a city of coaching centers known to train I...  \n",
            "4     A talented batch of amateur bakers face off in...  \n",
            "7     Students of color navigate the daily slights a...  \n",
            "8     Strangers Diego and Isabel flee their home in ...  \n",
            "...                                                 ...  \n",
            "7946  Nate frees a mythical being trapped in a magic...  \n",
            "7959  Now that he's discovered the Pendulum Summonin...  \n",
            "7960  During the Mongol invasions, Yunus Emre leaves...  \n",
            "7961  Teen surfer Zak Storm is mysteriously transpor...  \n",
            "7964  Strong-willed, middle-class Kashaf and carefre...  \n",
            "\n",
            "[2283 rows x 9 columns]\n"
          ]
        }
      ]
    }
  ]
}